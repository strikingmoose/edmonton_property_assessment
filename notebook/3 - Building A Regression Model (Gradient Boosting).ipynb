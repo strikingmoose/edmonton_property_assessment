{
 "cells": [
  {
   "cell_type": "markdown",
   "metadata": {},
   "source": [
    "# 3 - Building A Regression Model (Gradient Boosting)\n",
    "Okay, so I've gotten to explore the data set a little bit, statistically and spatially. I now want to built a model. With the model, I'm not necessarily trying to predict anything, but I almost want to use regression as a means for data exploration and data visualization as well. In the ideal world, I'd want to see a heatmap like this:\n",
    "\n",
    "<img src=\"http://s3.amazonaws.com/media.wbur.org/wordpress/1/files/2013/01/01_30heatmapboston1.jpg\" style=\"width: 500px;\"/>\n",
    "\n",
    "This is a heatmap of Boston showing the price per bedroom. I essentially would like to build that for units in Edmonton.\n",
    "\n",
    "Thinking about it, gmaps has a weighted heatmap option, but gmaps' heatmap factors in _**density**_. Sure, there is a weighted option, but you're still taking density into account. For example, the following 2 situations would probably yield the same result:\n",
    "1. A block of 5 very expensive houses\n",
    "2. A block of 50 less expensive houses\n",
    "\n",
    "The heatmap yields some function of density and weight (assessment value), we need to purely look at the average assessment value in a region without taking into account the density.\n",
    "\n",
    "## Gradient Boosting... Again?!\n",
    "The first thought that came into my mind was actually xgboost... AGAIN. I've done 3 projects now, and all 3 have relied on xgboost haha... What a package. This is where my train of thought comes from:\n",
    "\n",
    "When I was reading [ESL](http://statweb.stanford.edu/~tibs/ElemStatLearn/printings/ESLII_print10.pdf), I came across this visualization which is doing exactly what I want to do here and it stuck in my mind:\n",
    "\n",
    "![](https://s3.ca-central-1.amazonaws.com/2017edmfasatb/edmonton_property_assessment/images/esl_partial_dep_cali.png)\n",
    "\n",
    "When I was reading the book, I didn't even know I wanted to do this kind of project, but that image still stuck with me. It was one of the moments when I realized that models are so divserse in the way that they function and often times the model may yield results that you never set out to accomplish. When I was reading about gradient boosting, I was like \"great, this sounds like an awesome classification technique\", but right now, not only am I working in the context of regression, but I don't even really want to use regression as a prediction technique going forward, I actually want to use it for a data exploration / visualization technique! Yes, regression is imperative to getting to our end goal of the visualization, but I'm really not trying to feed new data into here and predicting on them (although, as the tables flip, I will have a model to do that if I want to as a bonus)!\n",
    "\n",
    "Well... we're no strangers to xgboost by now... let's git it."
   ]
  },
  {
   "cell_type": "code",
   "execution_count": 1,
   "metadata": {
    "collapsed": true
   },
   "outputs": [],
   "source": [
    "# Enable plots in the notebook\n",
    "%matplotlib inline\n",
    "import matplotlib.pyplot as plt\n",
    "\n",
    "# Seaborn makes our plots prettier\n",
    "import seaborn\n",
    "seaborn.set(style = 'ticks')\n",
    "\n",
    "# Import jupyter widgets\n",
    "from ipywidgets import widgets\n",
    "\n",
    "import numpy as np\n",
    "import pandas as pd\n",
    "import os\n",
    "import gmaps\n",
    "import warnings\n",
    "warnings.filterwarnings('ignore')"
   ]
  },
  {
   "cell_type": "code",
   "execution_count": 2,
   "metadata": {
    "collapsed": true
   },
   "outputs": [],
   "source": [
    "# Load data set\n",
    "edm_data = pd.read_csv('../data/Property_Assessment_Data.csv')"
   ]
  },
  {
   "cell_type": "code",
   "execution_count": 3,
   "metadata": {},
   "outputs": [
    {
     "data": {
      "text/plain": [
       "Account Number        int64\n",
       "Suite                object\n",
       "House Number        float64\n",
       "Street Name          object\n",
       "Assessed Value       object\n",
       "Assessment Class     object\n",
       "Neighbourhood        object\n",
       "Garage               object\n",
       "Latitude            float64\n",
       "Longitude           float64\n",
       "dtype: object"
      ]
     },
     "execution_count": 3,
     "metadata": {},
     "output_type": "execute_result"
    }
   ],
   "source": [
    "edm_data.dtypes"
   ]
  },
  {
   "cell_type": "code",
   "execution_count": 4,
   "metadata": {
    "collapsed": true
   },
   "outputs": [],
   "source": [
    "# Replace dollar signs and cast to int\n",
    "edm_data['Assessed Value'] = edm_data['Assessed Value'].str.replace('$', '').astype(int)"
   ]
  },
  {
   "cell_type": "code",
   "execution_count": 5,
   "metadata": {},
   "outputs": [
    {
     "data": {
      "text/plain": [
       "dtype('int64')"
      ]
     },
     "execution_count": 5,
     "metadata": {},
     "output_type": "execute_result"
    }
   ],
   "source": [
    "edm_data['Assessed Value'].dtype"
   ]
  },
  {
   "cell_type": "code",
   "execution_count": 6,
   "metadata": {
    "collapsed": true
   },
   "outputs": [],
   "source": [
    "# Filter for only residential buildings\n",
    "edm_data_res = edm_data[edm_data['Assessment Class'] == 'Residential']"
   ]
  },
  {
   "cell_type": "code",
   "execution_count": 7,
   "metadata": {
    "collapsed": true
   },
   "outputs": [],
   "source": [
    "# Import ML libraries\n",
    "import xgboost as xgb\n",
    "from sklearn.cross_validation import train_test_split\n",
    "from sklearn.grid_search import GridSearchCV"
   ]
  },
  {
   "cell_type": "code",
   "execution_count": 8,
   "metadata": {},
   "outputs": [
    {
     "name": "stdout",
     "output_type": "stream",
     "text": [
      "x has shape (363373, 2)\n",
      "y has shape (363373,)\n"
     ]
    }
   ],
   "source": [
    "# Define x and y\n",
    "x = edm_data_res[['Latitude', 'Longitude']].values\n",
    "y = edm_data_res['Assessed Value'].values\n",
    "\n",
    "print 'x has shape {}'.format(x.shape)\n",
    "print 'y has shape {}'.format(y.shape)"
   ]
  },
  {
   "cell_type": "code",
   "execution_count": 9,
   "metadata": {},
   "outputs": [
    {
     "name": "stdout",
     "output_type": "stream",
     "text": [
      "x_train has shape (290698, 2)\n",
      "y_train has shape (290698,)\n",
      "x_test has shape (72675, 2)\n",
      "y_test has shape (72675,)\n"
     ]
    }
   ],
   "source": [
    "# Hold out 10% for test data for early stopping\n",
    "x_train, x_test, y_train, y_test = train_test_split(x, y, test_size = 0.2, random_state = 1)\n",
    "\n",
    "print 'x_train has shape {}'.format(x_train.shape)\n",
    "print 'y_train has shape {}'.format(y_train.shape)\n",
    "print 'x_test has shape {}'.format(x_test.shape)\n",
    "print 'y_test has shape {}'.format(y_test.shape)"
   ]
  },
  {
   "cell_type": "code",
   "execution_count": 10,
   "metadata": {
    "collapsed": true
   },
   "outputs": [],
   "source": [
    "# # Instantiate model\n",
    "# xgb_model = xgb.XGBClassifier()\n",
    "\n",
    "# # Set parameters (for GridSearchCV, every value must be in a list, even if there is only 1 value we want to test)\n",
    "# param_grid = {\n",
    "#     'max_depth': [1],\n",
    "#     'learning_rate': [0.05],\n",
    "#     'objective': ['reg:linear'],\n",
    "#     'silent': [1],\n",
    "#     'n_estimators': [10000]\n",
    "# }\n",
    "\n",
    "# fit_params = {\n",
    "#     'early_stopping_rounds': 300,\n",
    "#     'eval_metric': 'rmse',\n",
    "#     'eval_set': [[x_test, y_test]],\n",
    "#     'verbose': 500\n",
    "# }\n",
    "\n",
    "# # Set up grid search\n",
    "# clf = GridSearchCV(\n",
    "#     xgb_model, \n",
    "#     param_grid, \n",
    "#     fit_params = fit_params,\n",
    "#     n_jobs = -1, \n",
    "#     cv = 5, \n",
    "#     scoring = 'mean_squared_error',\n",
    "#     verbose = 1, \n",
    "#     refit = True\n",
    "# )"
   ]
  },
  {
   "cell_type": "code",
   "execution_count": 11,
   "metadata": {
    "collapsed": true
   },
   "outputs": [],
   "source": [
    "# # Fit model\n",
    "# clf.fit(x_train, y_train)"
   ]
  },
  {
   "cell_type": "markdown",
   "metadata": {},
   "source": [
    "Okay, wow, I'm having an extremely difficult time trying to get xgboost() to work with the objective 'reg:linear' and GridSearchCV...\n",
    "\n",
    "I'm going to bypass GridSearchCV for now and revisit it later when I feel up to the challenge. I have to caveat what I'm about to do with the fact that I'm going off of previous models that I've built to pick the parameters here. _**IN NO WAY IS MY PARAMETER PICKING FOR THE BELOW CODE OPTIMAL**_. I would definitely be trying to use GridSearchCV to find the best parameters for max_depth and learning_rate.\n",
    "\n",
    "Let's start our quick and dirty model train:"
   ]
  },
  {
   "cell_type": "code",
   "execution_count": 12,
   "metadata": {
    "collapsed": true
   },
   "outputs": [],
   "source": [
    "# Set up xgboost dense matrix for non-GridSearchCV implementation\n",
    "xgb_train = xgb.DMatrix(x_train, label = y_train)\n",
    "xgb_test = xgb.DMatrix(x_test, label = y_test)\n",
    "\n",
    "# Set xgboost parameters\n",
    "param = {\n",
    "    'max_depth': 20,\n",
    "    'learning_rate': 0.05,\n",
    "    'objective': 'reg:linear',\n",
    "    'eval_metric': 'rmse',\n",
    "    'silent': 1,\n",
    "    'subsample': 0.8,\n",
    "    'seed': 1\n",
    "}"
   ]
  },
  {
   "cell_type": "code",
   "execution_count": 13,
   "metadata": {},
   "outputs": [
    {
     "name": "stdout",
     "output_type": "stream",
     "text": [
      "[0]\ttrain-rmse:419623\teval-rmse:435246\n",
      "Multiple eval metrics have been passed: 'eval-rmse' will be used for early stopping.\n",
      "\n",
      "Will train until eval-rmse hasn't improved in 300 rounds.\n",
      "[100]\ttrain-rmse:100525\teval-rmse:253754\n",
      "[200]\ttrain-rmse:86592\teval-rmse:254352\n",
      "[300]\ttrain-rmse:82291.2\teval-rmse:254653\n",
      "Stopping. Best iteration:\n",
      "[81]\ttrain-rmse:109123\teval-rmse:253606\n",
      "\n"
     ]
    }
   ],
   "source": [
    "# Train model\n",
    "bst = xgb.train(\n",
    "    params = param, \n",
    "    dtrain = xgb_train, \n",
    "    num_boost_round = 10000, \n",
    "    evals = [(xgb_train, 'train'), (xgb_test, 'eval')], \n",
    "    early_stopping_rounds = 300,\n",
    "    verbose_eval = 100\n",
    ")"
   ]
  },
  {
   "cell_type": "markdown",
   "metadata": {},
   "source": [
    "Ok, I feel a bit paranoid at the model because I can't tune the parameters, so I'm just going to randomly sample some parameter mappings. Note that there is no cross validation happening here, just a single train test split. Not quite as reliable but it's what I'm going to deal with for now.\n",
    "- max_depth: 3, learning_rate: 0.03, subsample: 0.8 --> eval-rmse: <span style=\"color:red\">278264</span> in 9999 iterations (no early stopping)\n",
    "- max_depth: <span style=\"color:red\">5</span>, learning_rate: 0.03, subsample: 0.8 --> eval-rmse: <span style=\"color:red\">269331</span> in 8406 iterations (early stopping)\n",
    "- max_depth: 5, learning_rate: <span style=\"color:red\">0.1</span>, subsample: 0.8 --> eval-rmse: <span style=\"color:red\">269342</span> in 2120 iterations (early stopping)\n",
    "    - Looks like we can speed up the learning process for the most part, getting a similar error\n",
    "- max_depth: <span style=\"color:red\">6</span>, learning_rate: 0.1, subsample: 0.8 --> eval-rmse: <span style=\"color:red\">267180</span> in 1234 iterations (early stopping)\n",
    "- max_depth: <span style=\"color:red\">7</span>, learning_rate: 0.1, subsample: 0.8 --> eval-rmse: <span style=\"color:red\">264945</span> in 1363 iterations (early stopping)\n",
    "- max_depth: <span style=\"color:red\">8</span>, learning_rate: 0.1, subsample: 0.8 --> eval-rmse: <span style=\"color:red\">261069</span> in 1969 iterations (early stopping)\n",
    "    - Looks like the max_depth really helps the RMSE... let's go a bit crazy? I'm going to do it, but I have to stop to think a bit here... 20 is kinda nuts (well, as per my informal readings and research... generally people stick to 6-7), but I'm trying to contextualize it with the data we have at hand. We have an extremely complex grid, where every single house is basically it's own value... even within a neighbourhood, you could find houses for \\$2M as well as \\$500K... maybe 20 isn't so crazy _**relative to**_ to the grid we're trying to run regression on... I mean, regardless, our test error is going down... so let's keep going.\n",
    "- max_depth: <span style=\"color:red\">20</span>, learning_rate: 0.1, subsample: 0.8 --> eval-rmse: <span style=\"color:red\">254117</span> in 29 iterations (early stopping)\n",
    "- max_depth: <span style=\"color:red\">100</span>, learning_rate: 0.1, subsample: 0.8 --> eval-rmse: <span style=\"color:red\">253392</span> in 29 iterations (early stopping)\n",
    "    - It really does kinda just keep getting better and better... but the trade off in training time is increasing. I'm going to draw a line here and just go with 20. I'm going to try tweaking the sampling rate a bit to see if that has any impact.\n",
    "- max_depth: <span style=\"color:red\">20</span>, learning_rate: 0.1, subsample: <span style=\"color:red\">0.9</span> --> eval-rmse: <span style=\"color:red\">256508</span> in 59 iterations (early stopping)\n",
    "    - This is worse. I'm going to go back to 0.8 and as a last hail mary train a bit slower to see if that does anything. I've already gotten the error down by like 15% from when I started, so I'm quite happy.\n",
    "- max_depth: 20, learning_rate: <span style=\"color:red\">0.05</span>, subsample: <span style=\"color:red\">0.8</span> --> eval-rmse: <span style=\"color:red\">253606</span> in 81 iterations (early stopping)\n",
    "\n",
    "Alright, so there's my make-shift parameter tuning... I'm going to go with that last model:\n",
    "- max_depth: 20\n",
    "- learning_rate: 0.05\n",
    "- subsample: 0.8\n",
    "\n",
    "It actually trains decently fast too, converging in just 81 iterations. If I think about this a bit more, each iteration is generating a tree with 20 splits (well, up to 20, but I'm sure it will find 20 splits that can optimize improve the training error) so we essentially have 1620 splits. We have to keep in mind that these 1620 splits are segregated into groups of 20, which are _**then improving upon the weaknesses of previous sets of splits**_, a la gradient boosting.\n",
    "\n",
    "Awesome. Let's test it out on some samples:"
   ]
  },
  {
   "cell_type": "code",
   "execution_count": 14,
   "metadata": {
    "collapsed": true
   },
   "outputs": [],
   "source": [
    "# Generate statistics per neighborhood\n",
    "edm_data_neighbour_grouped = edm_data_res.groupby(['Neighbourhood', 'Assessment Class']).agg({\n",
    "    'Assessed Value': [np.mean, np.size],\n",
    "    'Latitude': [np.mean],\n",
    "    'Longitude': [np.mean]\n",
    "}).reset_index()"
   ]
  },
  {
   "cell_type": "code",
   "execution_count": 15,
   "metadata": {},
   "outputs": [
    {
     "data": {
      "text/html": [
       "<div>\n",
       "<table border=\"1\" class=\"dataframe\">\n",
       "  <thead>\n",
       "    <tr style=\"text-align: right;\">\n",
       "      <th></th>\n",
       "      <th>Neighbourhood</th>\n",
       "      <th>Assessment Class</th>\n",
       "      <th>Latitude</th>\n",
       "      <th>Assessment Value Mean</th>\n",
       "      <th>Units</th>\n",
       "      <th>Longitude</th>\n",
       "    </tr>\n",
       "  </thead>\n",
       "  <tbody>\n",
       "    <tr>\n",
       "      <th>313</th>\n",
       "      <td>THE UPLANDS</td>\n",
       "      <td>Residential</td>\n",
       "      <td>53.465887</td>\n",
       "      <td>2.974396e+06</td>\n",
       "      <td>24</td>\n",
       "      <td>-113.658513</td>\n",
       "    </tr>\n",
       "    <tr>\n",
       "      <th>196</th>\n",
       "      <td>MAPLE RIDGE INDUSTRIAL</td>\n",
       "      <td>Residential</td>\n",
       "      <td>53.503755</td>\n",
       "      <td>1.095500e+06</td>\n",
       "      <td>21</td>\n",
       "      <td>-113.351915</td>\n",
       "    </tr>\n",
       "    <tr>\n",
       "      <th>330</th>\n",
       "      <td>WESTBROOK ESTATE</td>\n",
       "      <td>Residential</td>\n",
       "      <td>53.469744</td>\n",
       "      <td>1.002055e+06</td>\n",
       "      <td>338</td>\n",
       "      <td>-113.548747</td>\n",
       "    </tr>\n",
       "    <tr>\n",
       "      <th>269</th>\n",
       "      <td>RIVERVIEW AREA</td>\n",
       "      <td>Residential</td>\n",
       "      <td>53.428226</td>\n",
       "      <td>8.794038e+05</td>\n",
       "      <td>156</td>\n",
       "      <td>-113.669871</td>\n",
       "    </tr>\n",
       "    <tr>\n",
       "      <th>341</th>\n",
       "      <td>WINDSOR PARK</td>\n",
       "      <td>Residential</td>\n",
       "      <td>53.524560</td>\n",
       "      <td>8.749425e+05</td>\n",
       "      <td>583</td>\n",
       "      <td>-113.534766</td>\n",
       "    </tr>\n",
       "  </tbody>\n",
       "</table>\n",
       "</div>"
      ],
      "text/plain": [
       "              Neighbourhood Assessment Class   Latitude  \\\n",
       "313             THE UPLANDS      Residential  53.465887   \n",
       "196  MAPLE RIDGE INDUSTRIAL      Residential  53.503755   \n",
       "330        WESTBROOK ESTATE      Residential  53.469744   \n",
       "269          RIVERVIEW AREA      Residential  53.428226   \n",
       "341            WINDSOR PARK      Residential  53.524560   \n",
       "\n",
       "     Assessment Value Mean  Units   Longitude  \n",
       "313           2.974396e+06     24 -113.658513  \n",
       "196           1.095500e+06     21 -113.351915  \n",
       "330           1.002055e+06    338 -113.548747  \n",
       "269           8.794038e+05    156 -113.669871  \n",
       "341           8.749425e+05    583 -113.534766  "
      ]
     },
     "execution_count": 15,
     "metadata": {},
     "output_type": "execute_result"
    }
   ],
   "source": [
    "# Show most valued neighbourhoods with greater than 20 units\n",
    "most_valuable_50_neighbourhoods = edm_data_neighbour_grouped[edm_data_neighbour_grouped[('Assessed Value', 'size')] > 20].sort_values([('Assessed Value', 'mean')], ascending = False).head(50)\n",
    "most_valuable_50_neighbourhoods.columns = most_valuable_50_neighbourhoods.columns.droplevel(-1)\n",
    "most_valuable_50_neighbourhoods.columns = ['Neighbourhood', 'Assessment Class', 'Latitude', 'Assessment Value Mean', 'Units', 'Longitude']\n",
    "most_valuable_50_neighbourhoods.head()"
   ]
  },
  {
   "cell_type": "markdown",
   "metadata": {},
   "source": [
    "Let's feed the average latitude and longitude of these neighbourhoods into the model and see if it returns something close to the average Assessed Value."
   ]
  },
  {
   "cell_type": "code",
   "execution_count": 16,
   "metadata": {
    "collapsed": true
   },
   "outputs": [],
   "source": [
    "# Extract the features and rename to what the model is trained on\n",
    "top_50_neighbourhoods_test_x = most_valuable_50_neighbourhoods[['Latitude', 'Longitude']]\n",
    "top_50_neighbourhoods_test_x.columns = ['f0', 'f1']\n",
    "top_50_neighbourhoods_test_xgb = xgb.DMatrix(top_50_neighbourhoods_test_x)"
   ]
  },
  {
   "cell_type": "code",
   "execution_count": 17,
   "metadata": {
    "collapsed": true
   },
   "outputs": [],
   "source": [
    "# Make predictions\n",
    "most_valuable_50_neighbourhoods['Predicted Value'] = bst.predict(top_50_neighbourhoods_test_xgb)"
   ]
  },
  {
   "cell_type": "code",
   "execution_count": 18,
   "metadata": {},
   "outputs": [
    {
     "data": {
      "text/html": [
       "<div>\n",
       "<table border=\"1\" class=\"dataframe\">\n",
       "  <thead>\n",
       "    <tr style=\"text-align: right;\">\n",
       "      <th></th>\n",
       "      <th>Neighbourhood</th>\n",
       "      <th>Assessment Class</th>\n",
       "      <th>Latitude</th>\n",
       "      <th>Assessment Value Mean</th>\n",
       "      <th>Units</th>\n",
       "      <th>Longitude</th>\n",
       "      <th>Predicted Value</th>\n",
       "    </tr>\n",
       "  </thead>\n",
       "  <tbody>\n",
       "    <tr>\n",
       "      <th>313</th>\n",
       "      <td>THE UPLANDS</td>\n",
       "      <td>Residential</td>\n",
       "      <td>53.465887</td>\n",
       "      <td>2.974396e+06</td>\n",
       "      <td>24</td>\n",
       "      <td>-113.658513</td>\n",
       "      <td>4.884999e+05</td>\n",
       "    </tr>\n",
       "    <tr>\n",
       "      <th>196</th>\n",
       "      <td>MAPLE RIDGE INDUSTRIAL</td>\n",
       "      <td>Residential</td>\n",
       "      <td>53.503755</td>\n",
       "      <td>1.095500e+06</td>\n",
       "      <td>21</td>\n",
       "      <td>-113.351915</td>\n",
       "      <td>1.117105e+06</td>\n",
       "    </tr>\n",
       "    <tr>\n",
       "      <th>330</th>\n",
       "      <td>WESTBROOK ESTATE</td>\n",
       "      <td>Residential</td>\n",
       "      <td>53.469744</td>\n",
       "      <td>1.002055e+06</td>\n",
       "      <td>338</td>\n",
       "      <td>-113.548747</td>\n",
       "      <td>7.936061e+05</td>\n",
       "    </tr>\n",
       "    <tr>\n",
       "      <th>269</th>\n",
       "      <td>RIVERVIEW AREA</td>\n",
       "      <td>Residential</td>\n",
       "      <td>53.428226</td>\n",
       "      <td>8.794038e+05</td>\n",
       "      <td>156</td>\n",
       "      <td>-113.669871</td>\n",
       "      <td>9.961632e+05</td>\n",
       "    </tr>\n",
       "    <tr>\n",
       "      <th>341</th>\n",
       "      <td>WINDSOR PARK</td>\n",
       "      <td>Residential</td>\n",
       "      <td>53.524560</td>\n",
       "      <td>8.749425e+05</td>\n",
       "      <td>583</td>\n",
       "      <td>-113.534766</td>\n",
       "      <td>1.387375e+06</td>\n",
       "    </tr>\n",
       "  </tbody>\n",
       "</table>\n",
       "</div>"
      ],
      "text/plain": [
       "              Neighbourhood Assessment Class   Latitude  \\\n",
       "313             THE UPLANDS      Residential  53.465887   \n",
       "196  MAPLE RIDGE INDUSTRIAL      Residential  53.503755   \n",
       "330        WESTBROOK ESTATE      Residential  53.469744   \n",
       "269          RIVERVIEW AREA      Residential  53.428226   \n",
       "341            WINDSOR PARK      Residential  53.524560   \n",
       "\n",
       "     Assessment Value Mean  Units   Longitude  Predicted Value  \n",
       "313           2.974396e+06     24 -113.658513     4.884999e+05  \n",
       "196           1.095500e+06     21 -113.351915     1.117105e+06  \n",
       "330           1.002055e+06    338 -113.548747     7.936061e+05  \n",
       "269           8.794038e+05    156 -113.669871     9.961632e+05  \n",
       "341           8.749425e+05    583 -113.534766     1.387375e+06  "
      ]
     },
     "execution_count": 18,
     "metadata": {},
     "output_type": "execute_result"
    }
   ],
   "source": [
    "# Check results\n",
    "most_valuable_50_neighbourhoods.head()"
   ]
  },
  {
   "cell_type": "code",
   "execution_count": 19,
   "metadata": {},
   "outputs": [
    {
     "data": {
      "text/plain": [
       "<matplotlib.axes._subplots.AxesSubplot at 0x1170b9a10>"
      ]
     },
     "execution_count": 19,
     "metadata": {},
     "output_type": "execute_result"
    },
    {
     "data": {
      "image/png": "[encoded data removed]",
      "text/plain": [
       "<matplotlib.figure.Figure at 0x1170b9050>"
      ]
     },
     "metadata": {},
     "output_type": "display_data"
    }
   ],
   "source": [
    "# Plot variances\n",
    "most_valuable_50_neighbourhoods['Variance'] = most_valuable_50_neighbourhoods['Assessment Value Mean'] - most_valuable_50_neighbourhoods['Predicted Value']\n",
    "most_valuable_50_neighbourhoods['Variance'].hist()"
   ]
  },
  {
   "cell_type": "markdown",
   "metadata": {},
   "source": [
    "In some cases, the model was off by half a million, which kinda sucks. These, however, are the most expensive communities and may be quite unstable in terms of where the average latitude and longitude of the communities lies. Let's try this for all the communities. The fact that the histogram centers at zero is a great sign though, clearly there is correlation here and it's not just random noise."
   ]
  },
  {
   "cell_type": "code",
   "execution_count": 20,
   "metadata": {},
   "outputs": [
    {
     "data": {
      "text/html": [
       "<div>\n",
       "<table border=\"1\" class=\"dataframe\">\n",
       "  <thead>\n",
       "    <tr style=\"text-align: right;\">\n",
       "      <th></th>\n",
       "      <th>Neighbourhood</th>\n",
       "      <th>Assessment Class</th>\n",
       "      <th>Latitude</th>\n",
       "      <th>Assessment Value Mean</th>\n",
       "      <th>Units</th>\n",
       "      <th>Longitude</th>\n",
       "    </tr>\n",
       "  </thead>\n",
       "  <tbody>\n",
       "    <tr>\n",
       "      <th>234</th>\n",
       "      <td>PEMBINA</td>\n",
       "      <td>Residential</td>\n",
       "      <td>53.601348</td>\n",
       "      <td>100976.420798</td>\n",
       "      <td>827</td>\n",
       "      <td>-113.545760</td>\n",
       "    </tr>\n",
       "    <tr>\n",
       "      <th>195</th>\n",
       "      <td>MAPLE RIDGE</td>\n",
       "      <td>Residential</td>\n",
       "      <td>53.501823</td>\n",
       "      <td>81647.368421</td>\n",
       "      <td>855</td>\n",
       "      <td>-113.362575</td>\n",
       "    </tr>\n",
       "    <tr>\n",
       "      <th>113</th>\n",
       "      <td>EVERGREEN</td>\n",
       "      <td>Residential</td>\n",
       "      <td>53.631798</td>\n",
       "      <td>63883.164006</td>\n",
       "      <td>689</td>\n",
       "      <td>-113.351332</td>\n",
       "    </tr>\n",
       "    <tr>\n",
       "      <th>333</th>\n",
       "      <td>WESTVIEW VILLAGE</td>\n",
       "      <td>Residential</td>\n",
       "      <td>53.552301</td>\n",
       "      <td>60355.477855</td>\n",
       "      <td>858</td>\n",
       "      <td>-113.696537</td>\n",
       "    </tr>\n",
       "    <tr>\n",
       "      <th>325</th>\n",
       "      <td>WEIR INDUSTRIAL</td>\n",
       "      <td>Residential</td>\n",
       "      <td>53.511274</td>\n",
       "      <td>13673.076923</td>\n",
       "      <td>52</td>\n",
       "      <td>-113.411331</td>\n",
       "    </tr>\n",
       "  </tbody>\n",
       "</table>\n",
       "</div>"
      ],
      "text/plain": [
       "        Neighbourhood Assessment Class   Latitude  Assessment Value Mean  \\\n",
       "234           PEMBINA      Residential  53.601348          100976.420798   \n",
       "195       MAPLE RIDGE      Residential  53.501823           81647.368421   \n",
       "113         EVERGREEN      Residential  53.631798           63883.164006   \n",
       "333  WESTVIEW VILLAGE      Residential  53.552301           60355.477855   \n",
       "325   WEIR INDUSTRIAL      Residential  53.511274           13673.076923   \n",
       "\n",
       "     Units   Longitude  \n",
       "234    827 -113.545760  \n",
       "195    855 -113.362575  \n",
       "113    689 -113.351332  \n",
       "333    858 -113.696537  \n",
       "325     52 -113.411331  "
      ]
     },
     "execution_count": 20,
     "metadata": {},
     "output_type": "execute_result"
    }
   ],
   "source": [
    "# Show all neighbourhoods with greater than 20 units\n",
    "neighbourhoods = edm_data_neighbour_grouped[edm_data_neighbour_grouped[('Assessed Value', 'size')] > 20].sort_values([('Assessed Value', 'mean')], ascending = False)\n",
    "neighbourhoods.columns = neighbourhoods.columns.droplevel(-1)\n",
    "neighbourhoods.columns = ['Neighbourhood', 'Assessment Class', 'Latitude', 'Assessment Value Mean', 'Units', 'Longitude']\n",
    "neighbourhoods.tail()"
   ]
  },
  {
   "cell_type": "code",
   "execution_count": 21,
   "metadata": {
    "collapsed": true
   },
   "outputs": [],
   "source": [
    "# Extract the features and rename to what the model is trained on\n",
    "neighbourhoods_test_x = neighbourhoods[['Latitude', 'Longitude']]\n",
    "neighbourhoods_test_x.columns = ['f0', 'f1']\n",
    "neighbourhoods_test_xgb = xgb.DMatrix(neighbourhoods_test_x)"
   ]
  },
  {
   "cell_type": "code",
   "execution_count": 22,
   "metadata": {
    "collapsed": true
   },
   "outputs": [],
   "source": [
    "# Make predictions\n",
    "neighbourhoods['Predicted Value'] = bst.predict(neighbourhoods_test_xgb)"
   ]
  },
  {
   "cell_type": "code",
   "execution_count": 23,
   "metadata": {},
   "outputs": [
    {
     "data": {
      "text/plain": [
       "<matplotlib.axes._subplots.AxesSubplot at 0x117987b10>"
      ]
     },
     "execution_count": 23,
     "metadata": {},
     "output_type": "execute_result"
    },
    {
     "data": {
      "image/png": "[encoded data removed]",
      "text/plain": [
       "<matplotlib.figure.Figure at 0x1172fa550>"
      ]
     },
     "metadata": {},
     "output_type": "display_data"
    }
   ],
   "source": [
    "# Plot variances\n",
    "neighbourhoods['Variance'] = neighbourhoods['Assessment Value Mean'] - neighbourhoods['Predicted Value']\n",
    "neighbourhoods['Variance'].hist(range = [-250e3, 250e3])"
   ]
  },
  {
   "cell_type": "markdown",
   "metadata": {},
   "source": [
    "Confirmed. This thing is doing quite alright. Most guesses are within 100K of the right valuation. I have a crazy idea that might just work in creating the heat map. The California plot above uses the partial dependency plots to generate that type of heatmap, but unfortunately to me, xgboost doesn't have partial dependency capabilities yet.\n",
    "\n",
    "There are two correlated facts sticking out in my head:\n",
    "- I need to take out denstiy from the equation, I need equally distributed points representing the average value\n",
    "- I can now calculate the average value for a series of points\n",
    "\n",
    "Why don't I... create a grid of points across the entire city and use my model to predict the average value? Wouldn't that essentially be showing me the type of relationships that my model is generating?\n",
    "\n",
    "Judging by Google Maps, Edmonton is about:\n",
    "- ~28km wide (E-W) from -113.297595 to -113.709582\n",
    "- ~30km tall (N-S) from 53.396169 to 53.672860\n",
    "\n",
    "What if we created a grid of 100 x 100 points throughout the city to predict and plot on? Let's try it out:"
   ]
  },
  {
   "cell_type": "code",
   "execution_count": 480,
   "metadata": {},
   "outputs": [
    {
     "name": "stdout",
     "output_type": "stream",
     "text": [
      "Longitude step size: 0.00823974\n",
      "Latitude step size: 0.00553382\n"
     ]
    }
   ],
   "source": [
    "# Define city boundaries\n",
    "lng_min = -113.709582\n",
    "lng_max = -113.297595\n",
    "lat_min = 53.396169\n",
    "lat_max = 53.672860\n",
    "\n",
    "# Set padding if we want to expand map by certain amount\n",
    "map_padding = 0\n",
    "lng_min -= map_padding\n",
    "lng_max += map_padding\n",
    "lat_min -= map_padding\n",
    "lat_max += map_padding\n",
    "\n",
    "# Number of steps\n",
    "num_steps = 50\n",
    "\n",
    "# Calculate step sizes\n",
    "lng_step_size = (lng_max - lng_min) / num_steps\n",
    "lat_step_size = (lat_max - lat_min) / num_steps\n",
    "\n",
    "print 'Longitude step size: {}'.format(lng_step_size)\n",
    "print 'Latitude step size: {}'.format(lat_step_size)"
   ]
  },
  {
   "cell_type": "code",
   "execution_count": 481,
   "metadata": {},
   "outputs": [
    {
     "name": "stdout",
     "output_type": "stream",
     "text": [
      "Iteration 0 / 2500\n",
      "Iteration 100 / 2500\n",
      "Iteration 200 / 2500\n",
      "Iteration 300 / 2500\n",
      "Iteration 400 / 2500\n",
      "Iteration 500 / 2500\n",
      "Iteration 600 / 2500\n",
      "Iteration 700 / 2500\n",
      "Iteration 800 / 2500\n",
      "Iteration 900 / 2500\n",
      "Iteration 1000 / 2500\n",
      "Iteration 1100 / 2500\n",
      "Iteration 1200 / 2500\n",
      "Iteration 1300 / 2500\n",
      "Iteration 1400 / 2500\n",
      "Iteration 1500 / 2500\n",
      "Iteration 1600 / 2500\n",
      "Iteration 1700 / 2500\n",
      "Iteration 1800 / 2500\n",
      "Iteration 1900 / 2500\n",
      "Iteration 2000 / 2500\n",
      "Iteration 2100 / 2500\n",
      "Iteration 2200 / 2500\n",
      "Iteration 2300 / 2500\n",
      "Iteration 2400 / 2500\n"
     ]
    }
   ],
   "source": [
    "# Import geopy\n",
    "from geopy.distance import vincenty\n",
    "\n",
    "# Generate grid of lat / long points\n",
    "lat_lng_threshold = 1000\n",
    "\n",
    "lng_pts = []\n",
    "lat_pts = []\n",
    "\n",
    "total_points = num_steps**2\n",
    "\n",
    "i = 0\n",
    "for lng in np.arange(lng_min, lng_max, lng_step_size):\n",
    "    for lat in np.arange(lat_min, lat_max, lat_step_size):\n",
    "        # Print only every cluster of iterations\n",
    "        if i % 100 == 0:\n",
    "            print 'Iteration {} / {}'.format(i, total_points)\n",
    "        \n",
    "        # Only keep point on grid if it's within 1km distance of a community\n",
    "        neighbourhoods['Lat Lng Tuple'] = neighbourhoods[['Latitude', 'Longitude']].apply(tuple, axis = 1)\n",
    "        neighbourhoods['Distance'] = neighbourhoods['Lat Lng Tuple'].apply(lambda x: vincenty(x, (lat, lng)).meters)\n",
    "\n",
    "        if (neighbourhoods['Distance'].min() <= lat_lng_threshold):\n",
    "            lng_pts.append(lng)\n",
    "            lat_pts.append(lat)\n",
    "        \n",
    "        i += 1"
   ]
  },
  {
   "cell_type": "code",
   "execution_count": 482,
   "metadata": {},
   "outputs": [
    {
     "data": {
      "text/plain": [
       "1385"
      ]
     },
     "execution_count": 482,
     "metadata": {},
     "output_type": "execute_result"
    }
   ],
   "source": [
    "len(lng_pts)"
   ]
  },
  {
   "cell_type": "code",
   "execution_count": 483,
   "metadata": {
    "collapsed": true
   },
   "outputs": [],
   "source": [
    "# Generate input xgb dense matrix\n",
    "x_edm_grid_test = pd.DataFrame({\n",
    "    'f0': lat_pts,\n",
    "    'f1': lng_pts\n",
    "})\n",
    "\n",
    "edm_grid_test_xgb = xgb.DMatrix(x_edm_grid_test)"
   ]
  },
  {
   "cell_type": "code",
   "execution_count": 484,
   "metadata": {
    "collapsed": true
   },
   "outputs": [],
   "source": [
    "# Make predictions\n",
    "x_edm_grid_test['y_edm_grid_pred'] = bst.predict(edm_grid_test_xgb)"
   ]
  },
  {
   "cell_type": "code",
   "execution_count": 485,
   "metadata": {},
   "outputs": [
    {
     "data": {
      "text/plain": [
       "<matplotlib.axes._subplots.AxesSubplot at 0x13da0a750>"
      ]
     },
     "execution_count": 485,
     "metadata": {},
     "output_type": "execute_result"
    },
    {
     "data": {
      "image/png": "[encoded data removed]",
      "text/plain": [
       "<matplotlib.figure.Figure at 0x13da0a950>"
      ]
     },
     "metadata": {},
     "output_type": "display_data"
    }
   ],
   "source": [
    "# Look at distribution of predictions\n",
    "x_edm_grid_test['y_edm_grid_pred'].hist()"
   ]
  },
  {
   "cell_type": "markdown",
   "metadata": {},
   "source": [
    "Now I want the value to represent the intensity of the color on the heat map, right? This is extremely unproportional as that \\$20M house will blow all the other houses out of the water in terms of color intensity. Let's try taking a log scale."
   ]
  },
  {
   "cell_type": "code",
   "execution_count": 486,
   "metadata": {},
   "outputs": [
    {
     "data": {
      "text/plain": [
       "<matplotlib.axes._subplots.AxesSubplot at 0x13fb75510>"
      ]
     },
     "execution_count": 486,
     "metadata": {},
     "output_type": "execute_result"
    },
    {
     "data": {
      "image/png": "[encoded data removed]",
      "text/plain": [
       "<matplotlib.figure.Figure at 0x13ef9b4d0>"
      ]
     },
     "metadata": {},
     "output_type": "display_data"
    }
   ],
   "source": [
    "# Look at distribution of log predictions\n",
    "x_edm_grid_test['y_edm_grid_pred'].apply(lambda x: np.sign(x)*(np.log10(np.abs(x)+1))).hist(range = [3, 8])"
   ]
  },
  {
   "cell_type": "markdown",
   "metadata": {},
   "source": [
    "Above, I'm using a _**log modulus**_ calculation, which performs the log transformation equally for _**positive and negative values**_. This, of course, is important because your average log calculation does not handle negative values. Log modulus has the effect of something like this:\n",
    "\n",
    "<img src=\"http://blogs.sas.com/content/iml/files/2014/07/logmodulus2.png\" style=\"width: 500px;\"/>"
   ]
  },
  {
   "cell_type": "markdown",
   "metadata": {},
   "source": [
    "This looks great. Getting rid of the outliers, although the lower half of this Gaussian is a bit misleading... I just have to remember that this _**is on a log scale**_."
   ]
  },
  {
   "cell_type": "code",
   "execution_count": 487,
   "metadata": {
    "collapsed": true
   },
   "outputs": [],
   "source": [
    "# Create new log column\n",
    "x_edm_grid_test['y_edm_grid_pred_log'] = x_edm_grid_test['y_edm_grid_pred'].apply(lambda x: np.sign(x)*(np.log10(np.abs(x)+1)))"
   ]
  },
  {
   "cell_type": "code",
   "execution_count": 488,
   "metadata": {
    "collapsed": true
   },
   "outputs": [],
   "source": [
    "# Remove heavy outliers on the negative side\n",
    "x_edm_grid_test_no_outliers = x_edm_grid_test[x_edm_grid_test['y_edm_grid_pred_log'].between(3, 8)]"
   ]
  },
  {
   "cell_type": "code",
   "execution_count": 489,
   "metadata": {},
   "outputs": [
    {
     "name": "stderr",
     "output_type": "stream",
     "text": [
      "/Users/chiwang/anaconda/lib/python2.7/site-packages/sklearn/preprocessing/data.py:324: DeprecationWarning: Passing 1d arrays as data is deprecated in 0.17 and will raise ValueError in 0.19. Reshape your data either using X.reshape(-1, 1) if your data has a single feature or X.reshape(1, -1) if it contains a single sample.\n",
      "  warnings.warn(DEPRECATION_MSG_1D, DeprecationWarning)\n",
      "/Users/chiwang/anaconda/lib/python2.7/site-packages/sklearn/preprocessing/data.py:359: DeprecationWarning: Passing 1d arrays as data is deprecated in 0.17 and will raise ValueError in 0.19. Reshape your data either using X.reshape(-1, 1) if your data has a single feature or X.reshape(1, -1) if it contains a single sample.\n",
      "  warnings.warn(DEPRECATION_MSG_1D, DeprecationWarning)\n"
     ]
    }
   ],
   "source": [
    "# Scale responese from 0 to 1 to match gmaps opacity parameter\n",
    "from sklearn.preprocessing import MinMaxScaler\n",
    "scaler = MinMaxScaler()\n",
    "\n",
    "x_edm_grid_test_no_outliers['y_edm_grid_pred_log_scaled'] = scaler.fit_transform(x_edm_grid_test_no_outliers['y_edm_grid_pred_log'])"
   ]
  },
  {
   "cell_type": "code",
   "execution_count": 490,
   "metadata": {},
   "outputs": [
    {
     "data": {
      "text/html": [
       "<div>\n",
       "<table border=\"1\" class=\"dataframe\">\n",
       "  <thead>\n",
       "    <tr style=\"text-align: right;\">\n",
       "      <th></th>\n",
       "      <th>f0</th>\n",
       "      <th>f1</th>\n",
       "      <th>y_edm_grid_pred</th>\n",
       "      <th>y_edm_grid_pred_log</th>\n",
       "      <th>y_edm_grid_pred_log_scaled</th>\n",
       "    </tr>\n",
       "  </thead>\n",
       "  <tbody>\n",
       "    <tr>\n",
       "      <th>0</th>\n",
       "      <td>53.517913</td>\n",
       "      <td>-113.709582</td>\n",
       "      <td>2.060284e+06</td>\n",
       "      <td>6.313927</td>\n",
       "      <td>0.694945</td>\n",
       "    </tr>\n",
       "    <tr>\n",
       "      <th>1</th>\n",
       "      <td>53.528981</td>\n",
       "      <td>-113.709582</td>\n",
       "      <td>8.496143e+05</td>\n",
       "      <td>5.929222</td>\n",
       "      <td>0.561743</td>\n",
       "    </tr>\n",
       "    <tr>\n",
       "      <th>3</th>\n",
       "      <td>53.540048</td>\n",
       "      <td>-113.709582</td>\n",
       "      <td>2.850696e+06</td>\n",
       "      <td>6.454951</td>\n",
       "      <td>0.743774</td>\n",
       "    </tr>\n",
       "    <tr>\n",
       "      <th>4</th>\n",
       "      <td>53.551116</td>\n",
       "      <td>-113.709582</td>\n",
       "      <td>6.362494e+05</td>\n",
       "      <td>5.803628</td>\n",
       "      <td>0.518257</td>\n",
       "    </tr>\n",
       "    <tr>\n",
       "      <th>5</th>\n",
       "      <td>53.556650</td>\n",
       "      <td>-113.709582</td>\n",
       "      <td>8.744093e+05</td>\n",
       "      <td>5.941715</td>\n",
       "      <td>0.566069</td>\n",
       "    </tr>\n",
       "  </tbody>\n",
       "</table>\n",
       "</div>"
      ],
      "text/plain": [
       "          f0          f1  y_edm_grid_pred  y_edm_grid_pred_log  \\\n",
       "0  53.517913 -113.709582     2.060284e+06             6.313927   \n",
       "1  53.528981 -113.709582     8.496143e+05             5.929222   \n",
       "3  53.540048 -113.709582     2.850696e+06             6.454951   \n",
       "4  53.551116 -113.709582     6.362494e+05             5.803628   \n",
       "5  53.556650 -113.709582     8.744093e+05             5.941715   \n",
       "\n",
       "   y_edm_grid_pred_log_scaled  \n",
       "0                    0.694945  \n",
       "1                    0.561743  \n",
       "3                    0.743774  \n",
       "4                    0.518257  \n",
       "5                    0.566069  "
      ]
     },
     "execution_count": 490,
     "metadata": {},
     "output_type": "execute_result"
    }
   ],
   "source": [
    "# Check results\n",
    "x_edm_grid_test_no_outliers_sample = x_edm_grid_test_no_outliers.head(5)\n",
    "x_edm_grid_test_no_outliers_sample"
   ]
  },
  {
   "cell_type": "code",
   "execution_count": 491,
   "metadata": {
    "collapsed": true
   },
   "outputs": [],
   "source": [
    "# Import gmaps library and initial config\n",
    "import gmaps\n",
    "gmaps.configure(api_key=os.environ[\"GOOGLE_API_KEY\"])"
   ]
  },
  {
   "cell_type": "code",
   "execution_count": 501,
   "metadata": {},
   "outputs": [
    {
     "data": {
      "application/vnd.jupyter.widget-view+json": {
       "model_id": "0ce0561fa225479fa66e31065e98facc"
      }
     },
     "metadata": {},
     "output_type": "display_data"
    }
   ],
   "source": [
    "# Plot gmaps\n",
    "edm_grid_heatmap = gmaps.heatmap_layer(\n",
    "    x_edm_grid_test_no_outliers[['f0', 'f1']], \n",
    "    max_intensity = 10,\n",
    "    weights = np.array(x_edm_grid_test_no_outliers['y_edm_grid_pred_log_scaled'].tolist())*8.5\n",
    "    ,\n",
    "    opacity = 0.4\n",
    ")\n",
    "\n",
    "edm_grid_fig = gmaps.figure()\n",
    "edm_grid_fig.add_layer(edm_grid_heatmap)\n",
    "edm_grid_fig"
   ]
  },
  {
   "cell_type": "markdown",
   "metadata": {},
   "source": [
    "First things first. The annoying thing about taking a grid sample and making predictions off that grid is that it's not dynamic to map zooms unfortunately... If you zoom in once from the default map, you should be able to see the heatmap the way I intended lol. For jupyer and web purposes, the intended heatmap is below:\n",
    "\n",
    "![](https://s3.ca-central-1.amazonaws.com/2017edmfasatb/edmonton_property_assessment/images/xgboost_heatmap.png)\n",
    "\n",
    "Alright, so what do we have here... I have to remember that this is a log scale, so the really red areas are actually worth _**more**_ than what their intensity seems to be. My objective here, however, is not to get into all the numbers. It's simply to get an overall perspective on where the \"hot spots\" are in terms of property value. To no surprise, Edmonton SW seems like a clear winner, with other areas of the city showing pockets of value as well.\n",
    "\n",
    "One trend I see is that properties are pretty much expensive all along the river, all the way from \"Beverly\" in the NE to \"Woodbend\" in the SW. Probably the largest patch of expensive properties are the ones along the river that are also central to the city, around the U of A area.\n",
    "\n",
    "I'd say our gradient boosting model produced something that at least _**makes sense**_. I'm not in real estate and I'm not too well-travelled even in my home city, so I can't quite comment on certain areas of the map, but the southside looks pretty accurate to me.\n",
    "\n",
    "Another thing I'm noticing is that there's a big glaring green hole in downtown. This is based on the fact that each _**condo unit**_ is being compared against each _**house**_, which obviously is not a fair comparison. I haven't done any splitting of the data to ensure that houses are compared against houses and condos are compared against condos. Downtown, a dense area of condos, will obviously have a lower value per unit than the suburbs of Edmonton. Maybe a modification for later!\n",
    "\n",
    "For now, though, I want to try another model really quick. Let's see if KNN gives us a similar result!"
   ]
  }
 ],
 "metadata": {
  "anaconda-cloud": {},
  "kernelspec": {
   "display_name": "Python [conda root]",
   "language": "python",
   "name": "conda-root-py"
  },
  "language_info": {
   "codemirror_mode": {
    "name": "ipython",
    "version": 2
   },
   "file_extension": ".py",
   "mimetype": "text/x-python",
   "name": "python",
   "nbconvert_exporter": "python",
   "pygments_lexer": "ipython2",
   "version": "2.7.12"
  }
 },
 "nbformat": 4,
 "nbformat_minor": 1
}
