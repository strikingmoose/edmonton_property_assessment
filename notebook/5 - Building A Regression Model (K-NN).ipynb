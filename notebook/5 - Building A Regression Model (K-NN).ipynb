{
 "cells": [
  {
   "cell_type": "markdown",
   "metadata": {},
   "source": [
    "# 4 - Building A Regression Model (K-NN)\n",
    "I'm extremely happy with how gradient boosting turned out in my last post. I think I've just had xgboost on the brain... since it's worked so well in my last 2 projects. KNN should've been the first thing that came to my head when I thought about this haha. I don't think I've actually done a KNN before, so this is exciting!\n",
    "\n",
    "## K-Nearest Neighbours\n",
    "K-NN... one of the easiest algorithms lol. Take the K nearest points around you (with, let's say, Euclidean distance), average those values, and voila - you have your answer!\n",
    "\n",
    "<img src=\"http://scikit-learn.org/stable/_images/sphx_glr_plot_classification_0011.png\" style=\"width: 400px;\"/>\n",
    "\n",
    "In this _**classification**_ (remember, we're doing _**regression**_ in our property assessment project, but classification is just easier to demonstrate) example, the boundary lines are drawn for k = 15 and uniform weighting (all points have equal weight). This means that, for every point on the grid, if we took the 15 nearest neighbours and did a vote on what class the point should belong to, we would get the above decision boundaries. Hopefully I will be able to get something like that, but similar to a heat map for regression!"
   ]
  },
  {
   "cell_type": "code",
   "execution_count": 1,
   "metadata": {
    "collapsed": true
   },
   "outputs": [],
   "source": [
    "# Enable plots in the notebook\n",
    "%matplotlib inline\n",
    "import matplotlib.pyplot as plt\n",
    "\n",
    "# Seaborn makes our plots prettier\n",
    "import seaborn\n",
    "seaborn.set(style = 'ticks')\n",
    "\n",
    "import numpy as np\n",
    "import pandas as pd\n",
    "import os\n",
    "import gmaps\n",
    "import warnings\n",
    "warnings.filterwarnings('ignore')"
   ]
  },
  {
   "cell_type": "code",
   "execution_count": 7,
   "metadata": {
    "collapsed": true
   },
   "outputs": [],
   "source": [
    "# Load data set\n",
    "edm_data = pd.read_csv('../data/Property_Assessment_Data.csv')"
   ]
  },
  {
   "cell_type": "code",
   "execution_count": 8,
   "metadata": {},
   "outputs": [
    {
     "data": {
      "text/plain": [
       "Account Number        int64\n",
       "Suite                object\n",
       "House Number        float64\n",
       "Street Name          object\n",
       "Assessed Value       object\n",
       "Assessment Class     object\n",
       "Neighbourhood        object\n",
       "Garage               object\n",
       "Latitude            float64\n",
       "Longitude           float64\n",
       "dtype: object"
      ]
     },
     "execution_count": 8,
     "metadata": {},
     "output_type": "execute_result"
    }
   ],
   "source": [
    "edm_data.dtypes"
   ]
  },
  {
   "cell_type": "code",
   "execution_count": 9,
   "metadata": {
    "collapsed": true
   },
   "outputs": [],
   "source": [
    "# Replace dollar signs and cast to int\n",
    "edm_data['Assessed Value'] = edm_data['Assessed Value'].str.replace('$', '').astype(int)"
   ]
  },
  {
   "cell_type": "code",
   "execution_count": 10,
   "metadata": {
    "collapsed": true
   },
   "outputs": [],
   "source": [
    "# Filter for only residential buildings\n",
    "edm_data_res = edm_data[edm_data['Assessment Class'] == 'Residential']"
   ]
  },
  {
   "cell_type": "code",
   "execution_count": 19,
   "metadata": {
    "collapsed": true
   },
   "outputs": [],
   "source": [
    "# Import ML libraries\n",
    "from sklearn.neighbors import KNeighborsRegressor\n",
    "from sklearn.grid_search import GridSearchCV\n",
    "from sklearn.preprocessing import StandardScaler"
   ]
  },
  {
   "cell_type": "code",
   "execution_count": 54,
   "metadata": {},
   "outputs": [
    {
     "name": "stderr",
     "output_type": "stream",
     "text": [
      "/Users/chiwang/anaconda/lib/python2.7/site-packages/sklearn/preprocessing/data.py:583: DeprecationWarning: Passing 1d arrays as data is deprecated in 0.17 and will raise ValueError in 0.19. Reshape your data either using X.reshape(-1, 1) if your data has a single feature or X.reshape(1, -1) if it contains a single sample.\n",
      "  warnings.warn(DEPRECATION_MSG_1D, DeprecationWarning)\n",
      "/Users/chiwang/anaconda/lib/python2.7/site-packages/sklearn/preprocessing/data.py:646: DeprecationWarning: Passing 1d arrays as data is deprecated in 0.17 and will raise ValueError in 0.19. Reshape your data either using X.reshape(-1, 1) if your data has a single feature or X.reshape(1, -1) if it contains a single sample.\n",
      "  warnings.warn(DEPRECATION_MSG_1D, DeprecationWarning)\n",
      "/Users/chiwang/anaconda/lib/python2.7/site-packages/sklearn/preprocessing/data.py:583: DeprecationWarning: Passing 1d arrays as data is deprecated in 0.17 and will raise ValueError in 0.19. Reshape your data either using X.reshape(-1, 1) if your data has a single feature or X.reshape(1, -1) if it contains a single sample.\n",
      "  warnings.warn(DEPRECATION_MSG_1D, DeprecationWarning)\n",
      "/Users/chiwang/anaconda/lib/python2.7/site-packages/sklearn/preprocessing/data.py:646: DeprecationWarning: Passing 1d arrays as data is deprecated in 0.17 and will raise ValueError in 0.19. Reshape your data either using X.reshape(-1, 1) if your data has a single feature or X.reshape(1, -1) if it contains a single sample.\n",
      "  warnings.warn(DEPRECATION_MSG_1D, DeprecationWarning)\n"
     ]
    },
    {
     "name": "stdout",
     "output_type": "stream",
     "text": [
      "Latitude has mean -8.39668646084e-14 and standard deviation 1.000001376 (53.5212084209 / 0.0668533185807 before)\n",
      "Longitude has mean -1.97593026608e-13 and standard deviation 1.000001376 (-113.51057506 / 0.0809892062884 before)\n"
     ]
    }
   ],
   "source": [
    "# Scale to mean 0 and standard deviation 1\n",
    "lat_scaler = StandardScaler()\n",
    "lng_scaler = StandardScaler()\n",
    "edm_data_res['Latitude Scaled'] = lat_scaler.fit_transform(edm_data_res['Latitude'])\n",
    "edm_data_res['Longitude Scaled'] = lng_scaler.fit_transform(edm_data_res['Longitude'])\n",
    "\n",
    "print 'Latitude has mean {} and standard deviation {} ({} / {} before)'.format(\n",
    "    edm_data_res['Latitude Scaled'].mean(), \n",
    "    edm_data_res['Latitude Scaled'].std(),\n",
    "    edm_data_res['Latitude'].mean(),\n",
    "    edm_data_res['Latitude'].std()\n",
    ")\n",
    "\n",
    "print 'Longitude has mean {} and standard deviation {} ({} / {} before)'.format(\n",
    "    edm_data_res['Longitude Scaled'].mean(), \n",
    "    edm_data_res['Longitude Scaled'].std(),\n",
    "    edm_data_res['Longitude'].mean(),\n",
    "    edm_data_res['Longitude'].std()\n",
    ")"
   ]
  },
  {
   "cell_type": "code",
   "execution_count": 104,
   "metadata": {},
   "outputs": [
    {
     "name": "stdout",
     "output_type": "stream",
     "text": [
      "x has shape (363373, 2)\n",
      "y has shape (363373,)\n"
     ]
    }
   ],
   "source": [
    "# Define x and y\n",
    "x = edm_data_res[['Latitude Scaled', 'Longitude Scaled']].values\n",
    "y = edm_data_res['Assessed Value'].values\n",
    "\n",
    "print 'x has shape {}'.format(x.shape)\n",
    "print 'y has shape {}'.format(y.shape)"
   ]
  },
  {
   "cell_type": "code",
   "execution_count": 56,
   "metadata": {},
   "outputs": [
    {
     "name": "stdout",
     "output_type": "stream",
     "text": [
      "Testing knn for the following number of neighbours: [ 1  2  3  4  5  6  7  8  9 10 11 12 13 14 15]\n"
     ]
    }
   ],
   "source": [
    "# Set up grid search CV object to tune number of neighbours\n",
    "k = np.arange(1, 16, 1)\n",
    "print 'Testing knn for the following number of neighbours: {}'.format(k)\n",
    "\n",
    "parameters = {'n_neighbors': k}\n",
    "knn = KNeighborsRegressor()\n",
    "clf = GridSearchCV(knn, parameters, cv = 5, verbose = 2)"
   ]
  },
  {
   "cell_type": "code",
   "execution_count": 57,
   "metadata": {
    "scrolled": false
   },
   "outputs": [
    {
     "name": "stdout",
     "output_type": "stream",
     "text": [
      "Fitting 5 folds for each of 15 candidates, totalling 75 fits\n",
      "[CV] n_neighbors=1 ...................................................\n",
      "[CV] .......................................... n_neighbors=1 -   1.8s\n",
      "[CV] n_neighbors=1 ...................................................\n",
      "[CV] .......................................... n_neighbors=1 -   1.7s\n",
      "[CV] n_neighbors=1 ...................................................\n",
      "[CV] .......................................... n_neighbors=1 -   1.4s\n",
      "[CV] n_neighbors=1 ...................................................\n",
      "[CV] .......................................... n_neighbors=1 -   1.4s\n",
      "[CV] n_neighbors=1 ...................................................\n",
      "[CV] .......................................... n_neighbors=1 -   1.4s\n",
      "[CV] n_neighbors=2 ...................................................\n",
      "[CV] .......................................... n_neighbors=2 -   1.5s\n",
      "[CV] n_neighbors=2 ...................................................\n",
      "[CV] .......................................... n_neighbors=2 -   1.5s\n",
      "[CV] n_neighbors=2 ...................................................\n",
      "[CV] .......................................... n_neighbors=2 -   1.9s\n",
      "[CV] n_neighbors=2 ...................................................\n",
      "[CV] .......................................... n_neighbors=2 -   1.7s\n",
      "[CV] n_neighbors=2 ...................................................\n",
      "[CV] .......................................... n_neighbors=2 -   1.5s\n",
      "[CV] n_neighbors=3 ...................................................\n",
      "[CV] .......................................... n_neighbors=3 -   1.6s\n",
      "[CV] n_neighbors=3 ...................................................\n",
      "[CV] .......................................... n_neighbors=3 -   1.6s\n",
      "[CV] n_neighbors=3 ...................................................\n",
      "[CV] .......................................... n_neighbors=3 -   1.6s\n",
      "[CV] n_neighbors=3 ...................................................\n",
      "[CV] .......................................... n_neighbors=3 -   1.5s\n",
      "[CV] n_neighbors=3 ...................................................\n",
      "[CV] .......................................... n_neighbors=3 -   1.5s\n",
      "[CV] n_neighbors=4 ...................................................\n",
      "[CV] .......................................... n_neighbors=4 -   1.6s\n",
      "[CV] n_neighbors=4 ...................................................\n",
      "[CV] .......................................... n_neighbors=4 -   1.6s\n",
      "[CV] n_neighbors=4 ...................................................\n",
      "[CV] .......................................... n_neighbors=4 -   1.6s\n",
      "[CV] n_neighbors=4 ...................................................\n",
      "[CV] .......................................... n_neighbors=4 -   1.6s\n",
      "[CV] n_neighbors=4 ...................................................\n",
      "[CV] .......................................... n_neighbors=4 -   1.6s\n",
      "[CV] n_neighbors=5 ...................................................\n",
      "[CV] .......................................... n_neighbors=5 -   1.6s\n",
      "[CV] n_neighbors=5 ...................................................\n",
      "[CV] .......................................... n_neighbors=5 -   1.7s\n",
      "[CV] n_neighbors=5 ...................................................\n",
      "[CV] .......................................... n_neighbors=5 -   1.6s\n",
      "[CV] n_neighbors=5 ...................................................\n",
      "[CV] .......................................... n_neighbors=5 -   1.6s\n",
      "[CV] n_neighbors=5 ...................................................\n",
      "[CV] .......................................... n_neighbors=5 -   1.6s\n",
      "[CV] n_neighbors=6 ...................................................\n",
      "[CV] .......................................... n_neighbors=6 -   1.6s\n",
      "[CV] n_neighbors=6 ...................................................\n",
      "[CV] .......................................... n_neighbors=6 -   1.7s\n",
      "[CV] n_neighbors=6 ...................................................\n",
      "[CV] .......................................... n_neighbors=6 -   1.7s\n",
      "[CV] n_neighbors=6 ...................................................\n",
      "[CV] .......................................... n_neighbors=6 -   1.7s\n",
      "[CV] n_neighbors=6 ...................................................\n",
      "[CV] .......................................... n_neighbors=6 -   1.6s\n",
      "[CV] n_neighbors=7 ...................................................\n",
      "[CV] .......................................... n_neighbors=7 -   1.7s\n",
      "[CV] n_neighbors=7 ...................................................\n",
      "[CV] .......................................... n_neighbors=7 -   1.7s\n",
      "[CV] n_neighbors=7 ...................................................\n",
      "[CV] .......................................... n_neighbors=7 -   1.7s\n",
      "[CV] n_neighbors=7 ...................................................\n",
      "[CV] .......................................... n_neighbors=7 -   1.7s\n",
      "[CV] n_neighbors=7 ...................................................\n",
      "[CV] .......................................... n_neighbors=7 -   1.6s\n",
      "[CV] n_neighbors=8 ...................................................\n",
      "[CV] .......................................... n_neighbors=8 -   1.7s\n",
      "[CV] n_neighbors=8 ...................................................\n",
      "[CV] .......................................... n_neighbors=8 -   1.8s\n",
      "[CV] n_neighbors=8 ...................................................\n",
      "[CV] .......................................... n_neighbors=8 -   1.8s\n",
      "[CV] n_neighbors=8 ...................................................\n",
      "[CV] .......................................... n_neighbors=8 -   1.7s\n",
      "[CV] n_neighbors=8 ...................................................\n",
      "[CV] .......................................... n_neighbors=8 -   1.7s\n",
      "[CV] n_neighbors=9 ...................................................\n"
     ]
    },
    {
     "name": "stderr",
     "output_type": "stream",
     "text": [
      "[Parallel(n_jobs=1)]: Done  40 tasks       | elapsed:  1.1min\n"
     ]
    },
    {
     "name": "stdout",
     "output_type": "stream",
     "text": [
      "[CV] .......................................... n_neighbors=9 -   1.7s\n",
      "[CV] n_neighbors=9 ...................................................\n",
      "[CV] .......................................... n_neighbors=9 -   1.8s\n",
      "[CV] n_neighbors=9 ...................................................\n",
      "[CV] .......................................... n_neighbors=9 -   1.7s\n",
      "[CV] n_neighbors=9 ...................................................\n",
      "[CV] .......................................... n_neighbors=9 -   1.8s\n",
      "[CV] n_neighbors=9 ...................................................\n",
      "[CV] .......................................... n_neighbors=9 -   1.7s\n",
      "[CV] n_neighbors=10 ..................................................\n",
      "[CV] ......................................... n_neighbors=10 -   1.8s\n",
      "[CV] n_neighbors=10 ..................................................\n",
      "[CV] ......................................... n_neighbors=10 -   1.8s\n",
      "[CV] n_neighbors=10 ..................................................\n",
      "[CV] ......................................... n_neighbors=10 -   1.8s\n",
      "[CV] n_neighbors=10 ..................................................\n",
      "[CV] ......................................... n_neighbors=10 -   1.8s\n",
      "[CV] n_neighbors=10 ..................................................\n",
      "[CV] ......................................... n_neighbors=10 -   1.8s\n",
      "[CV] n_neighbors=11 ..................................................\n",
      "[CV] ......................................... n_neighbors=11 -   1.8s\n",
      "[CV] n_neighbors=11 ..................................................\n",
      "[CV] ......................................... n_neighbors=11 -   1.8s\n",
      "[CV] n_neighbors=11 ..................................................\n",
      "[CV] ......................................... n_neighbors=11 -   1.8s\n",
      "[CV] n_neighbors=11 ..................................................\n",
      "[CV] ......................................... n_neighbors=11 -   1.8s\n",
      "[CV] n_neighbors=11 ..................................................\n",
      "[CV] ......................................... n_neighbors=11 -   1.8s\n",
      "[CV] n_neighbors=12 ..................................................\n",
      "[CV] ......................................... n_neighbors=12 -   1.8s\n",
      "[CV] n_neighbors=12 ..................................................\n",
      "[CV] ......................................... n_neighbors=12 -   1.9s\n",
      "[CV] n_neighbors=12 ..................................................\n",
      "[CV] ......................................... n_neighbors=12 -   1.9s\n",
      "[CV] n_neighbors=12 ..................................................\n",
      "[CV] ......................................... n_neighbors=12 -   1.9s\n",
      "[CV] n_neighbors=12 ..................................................\n",
      "[CV] ......................................... n_neighbors=12 -   1.8s\n",
      "[CV] n_neighbors=13 ..................................................\n",
      "[CV] ......................................... n_neighbors=13 -   1.9s\n",
      "[CV] n_neighbors=13 ..................................................\n",
      "[CV] ......................................... n_neighbors=13 -   1.9s\n",
      "[CV] n_neighbors=13 ..................................................\n",
      "[CV] ......................................... n_neighbors=13 -   1.9s\n",
      "[CV] n_neighbors=13 ..................................................\n",
      "[CV] ......................................... n_neighbors=13 -   1.9s\n",
      "[CV] n_neighbors=13 ..................................................\n",
      "[CV] ......................................... n_neighbors=13 -   1.9s\n",
      "[CV] n_neighbors=14 ..................................................\n",
      "[CV] ......................................... n_neighbors=14 -   1.9s\n",
      "[CV] n_neighbors=14 ..................................................\n",
      "[CV] ......................................... n_neighbors=14 -   1.9s\n",
      "[CV] n_neighbors=14 ..................................................\n",
      "[CV] ......................................... n_neighbors=14 -   1.9s\n",
      "[CV] n_neighbors=14 ..................................................\n",
      "[CV] ......................................... n_neighbors=14 -   2.0s\n",
      "[CV] n_neighbors=14 ..................................................\n",
      "[CV] ......................................... n_neighbors=14 -   1.9s\n",
      "[CV] n_neighbors=15 ..................................................\n",
      "[CV] ......................................... n_neighbors=15 -   1.9s\n",
      "[CV] n_neighbors=15 ..................................................\n",
      "[CV] ......................................... n_neighbors=15 -   2.0s\n",
      "[CV] n_neighbors=15 ..................................................\n",
      "[CV] ......................................... n_neighbors=15 -   2.0s\n",
      "[CV] n_neighbors=15 ..................................................\n",
      "[CV] ......................................... n_neighbors=15 -   2.0s\n",
      "[CV] n_neighbors=15 ..................................................\n",
      "[CV] ......................................... n_neighbors=15 -   1.9s\n"
     ]
    },
    {
     "name": "stderr",
     "output_type": "stream",
     "text": [
      "[Parallel(n_jobs=1)]: Done  75 out of  75 | elapsed:  2.2min finished\n"
     ]
    },
    {
     "data": {
      "text/plain": [
       "GridSearchCV(cv=5, error_score='raise',\n",
       "       estimator=KNeighborsRegressor(algorithm='auto', leaf_size=30, metric='minkowski',\n",
       "          metric_params=None, n_jobs=1, n_neighbors=5, p=2,\n",
       "          weights='uniform'),\n",
       "       fit_params={}, iid=True, n_jobs=1,\n",
       "       param_grid={'n_neighbors': array([ 1,  2,  3,  4,  5,  6,  7,  8,  9, 10, 11, 12, 13, 14, 15])},\n",
       "       pre_dispatch='2*n_jobs', refit=True, scoring=None, verbose=2)"
      ]
     },
     "execution_count": 57,
     "metadata": {},
     "output_type": "execute_result"
    }
   ],
   "source": [
    "# Fit model\n",
    "clf.fit(x, y)"
   ]
  },
  {
   "cell_type": "code",
   "execution_count": 58,
   "metadata": {},
   "outputs": [
    {
     "data": {
      "text/plain": [
       "{'n_neighbors': 7}"
      ]
     },
     "execution_count": 58,
     "metadata": {},
     "output_type": "execute_result"
    }
   ],
   "source": [
    "clf.best_params_"
   ]
  },
  {
   "cell_type": "code",
   "execution_count": 98,
   "metadata": {},
   "outputs": [
    {
     "data": {
      "text/plain": [
       "[<matplotlib.lines.Line2D at 0x11a9acb90>]"
      ]
     },
     "execution_count": 98,
     "metadata": {},
     "output_type": "execute_result"
    },
    {
     "data": {
      "image/png": "[encoded data removed]",
      "text/plain": [
       "<matplotlib.figure.Figure at 0x11ab23690>"
      ]
     },
     "metadata": {},
     "output_type": "display_data"
    }
   ],
   "source": [
    "# Plot best score for k\n",
    "plt.plot(k, [i[1] for i in clf.grid_scores_])"
   ]
  },
  {
   "cell_type": "markdown",
   "metadata": {},
   "source": [
    "Apparently 7 nearest neighbours is the best model via GridSearchCV. We can see that, after 7, it really doesn't matter anymore. Let's try to build our grid and map it with gmaps. Let's create our grid of sample points again."
   ]
  },
  {
   "cell_type": "code",
   "execution_count": 43,
   "metadata": {
    "collapsed": true
   },
   "outputs": [],
   "source": [
    "# Generate statistics per neighborhood\n",
    "edm_data_neighbour_grouped = edm_data_res.groupby(['Neighbourhood', 'Assessment Class']).agg({\n",
    "    'Assessed Value': [np.mean, np.size],\n",
    "    'Latitude': [np.mean],\n",
    "    'Longitude': [np.mean]\n",
    "}).reset_index()"
   ]
  },
  {
   "cell_type": "code",
   "execution_count": 44,
   "metadata": {},
   "outputs": [
    {
     "data": {
      "text/html": [
       "<div>\n",
       "<table border=\"1\" class=\"dataframe\">\n",
       "  <thead>\n",
       "    <tr style=\"text-align: right;\">\n",
       "      <th></th>\n",
       "      <th>Neighbourhood</th>\n",
       "      <th>Assessment Class</th>\n",
       "      <th>Latitude</th>\n",
       "      <th>Assessment Value Mean</th>\n",
       "      <th>Units</th>\n",
       "      <th>Longitude</th>\n",
       "    </tr>\n",
       "  </thead>\n",
       "  <tbody>\n",
       "    <tr>\n",
       "      <th>234</th>\n",
       "      <td>PEMBINA</td>\n",
       "      <td>Residential</td>\n",
       "      <td>53.601348</td>\n",
       "      <td>100976.420798</td>\n",
       "      <td>827</td>\n",
       "      <td>-113.545760</td>\n",
       "    </tr>\n",
       "    <tr>\n",
       "      <th>195</th>\n",
       "      <td>MAPLE RIDGE</td>\n",
       "      <td>Residential</td>\n",
       "      <td>53.501823</td>\n",
       "      <td>81647.368421</td>\n",
       "      <td>855</td>\n",
       "      <td>-113.362575</td>\n",
       "    </tr>\n",
       "    <tr>\n",
       "      <th>113</th>\n",
       "      <td>EVERGREEN</td>\n",
       "      <td>Residential</td>\n",
       "      <td>53.631798</td>\n",
       "      <td>63883.164006</td>\n",
       "      <td>689</td>\n",
       "      <td>-113.351332</td>\n",
       "    </tr>\n",
       "    <tr>\n",
       "      <th>333</th>\n",
       "      <td>WESTVIEW VILLAGE</td>\n",
       "      <td>Residential</td>\n",
       "      <td>53.552301</td>\n",
       "      <td>60355.477855</td>\n",
       "      <td>858</td>\n",
       "      <td>-113.696537</td>\n",
       "    </tr>\n",
       "    <tr>\n",
       "      <th>325</th>\n",
       "      <td>WEIR INDUSTRIAL</td>\n",
       "      <td>Residential</td>\n",
       "      <td>53.511274</td>\n",
       "      <td>13673.076923</td>\n",
       "      <td>52</td>\n",
       "      <td>-113.411331</td>\n",
       "    </tr>\n",
       "  </tbody>\n",
       "</table>\n",
       "</div>"
      ],
      "text/plain": [
       "        Neighbourhood Assessment Class   Latitude  Assessment Value Mean  \\\n",
       "234           PEMBINA      Residential  53.601348          100976.420798   \n",
       "195       MAPLE RIDGE      Residential  53.501823           81647.368421   \n",
       "113         EVERGREEN      Residential  53.631798           63883.164006   \n",
       "333  WESTVIEW VILLAGE      Residential  53.552301           60355.477855   \n",
       "325   WEIR INDUSTRIAL      Residential  53.511274           13673.076923   \n",
       "\n",
       "     Units   Longitude  \n",
       "234    827 -113.545760  \n",
       "195    855 -113.362575  \n",
       "113    689 -113.351332  \n",
       "333    858 -113.696537  \n",
       "325     52 -113.411331  "
      ]
     },
     "execution_count": 44,
     "metadata": {},
     "output_type": "execute_result"
    }
   ],
   "source": [
    "# Show all neighbourhoods with greater than 20 units\n",
    "neighbourhoods = edm_data_neighbour_grouped[edm_data_neighbour_grouped[('Assessed Value', 'size')] > 20].sort_values([('Assessed Value', 'mean')], ascending = False)\n",
    "neighbourhoods.columns = neighbourhoods.columns.droplevel(-1)\n",
    "neighbourhoods.columns = ['Neighbourhood', 'Assessment Class', 'Latitude', 'Assessment Value Mean', 'Units', 'Longitude']\n",
    "neighbourhoods.tail()"
   ]
  },
  {
   "cell_type": "code",
   "execution_count": 46,
   "metadata": {},
   "outputs": [
    {
     "name": "stdout",
     "output_type": "stream",
     "text": [
      "Longitude step size: 0.00823974\n",
      "Latitude step size: 0.00553382\n"
     ]
    }
   ],
   "source": [
    "# Define city boundaries\n",
    "lng_min = -113.709582\n",
    "lng_max = -113.297595\n",
    "lat_min = 53.396169\n",
    "lat_max = 53.672860\n",
    "\n",
    "# Set padding if we want to expand map by certain amount\n",
    "map_padding = 0\n",
    "lng_min -= map_padding\n",
    "lng_max += map_padding\n",
    "lat_min -= map_padding\n",
    "lat_max += map_padding\n",
    "\n",
    "# Number of steps\n",
    "num_steps = 50\n",
    "\n",
    "# Calculate step sizes\n",
    "lng_step_size = (lng_max - lng_min) / num_steps\n",
    "lat_step_size = (lat_max - lat_min) / num_steps\n",
    "\n",
    "print 'Longitude step size: {}'.format(lng_step_size)\n",
    "print 'Latitude step size: {}'.format(lat_step_size)"
   ]
  },
  {
   "cell_type": "code",
   "execution_count": 47,
   "metadata": {},
   "outputs": [
    {
     "name": "stdout",
     "output_type": "stream",
     "text": [
      "Iteration 0 / 2500\n",
      "Iteration 100 / 2500\n",
      "Iteration 200 / 2500\n",
      "Iteration 300 / 2500\n",
      "Iteration 400 / 2500\n",
      "Iteration 500 / 2500\n",
      "Iteration 600 / 2500\n",
      "Iteration 700 / 2500\n",
      "Iteration 800 / 2500\n",
      "Iteration 900 / 2500\n",
      "Iteration 1000 / 2500\n",
      "Iteration 1100 / 2500\n",
      "Iteration 1200 / 2500\n",
      "Iteration 1300 / 2500\n",
      "Iteration 1400 / 2500\n",
      "Iteration 1500 / 2500\n",
      "Iteration 1600 / 2500\n",
      "Iteration 1700 / 2500\n",
      "Iteration 1800 / 2500\n",
      "Iteration 1900 / 2500\n",
      "Iteration 2000 / 2500\n",
      "Iteration 2100 / 2500\n",
      "Iteration 2200 / 2500\n",
      "Iteration 2300 / 2500\n",
      "Iteration 2400 / 2500\n"
     ]
    }
   ],
   "source": [
    "# Import geopy\n",
    "from geopy.distance import vincenty\n",
    "\n",
    "# Generate grid of lat / long points\n",
    "lat_lng_threshold = 1000\n",
    "\n",
    "lng_pts = []\n",
    "lat_pts = []\n",
    "\n",
    "total_points = num_steps**2\n",
    "\n",
    "i = 0\n",
    "for lng in np.arange(lng_min, lng_max, lng_step_size):\n",
    "    for lat in np.arange(lat_min, lat_max, lat_step_size):\n",
    "        # Print only every cluster of iterations\n",
    "        if i % 100 == 0:\n",
    "            print 'Iteration {} / {}'.format(i, total_points)\n",
    "        \n",
    "        # Only keep point on grid if it's within 1km distance of a community\n",
    "        neighbourhoods['Lat Lng Tuple'] = neighbourhoods[['Latitude', 'Longitude']].apply(tuple, axis = 1)\n",
    "        neighbourhoods['Distance'] = neighbourhoods['Lat Lng Tuple'].apply(lambda x: vincenty(x, (lat, lng)).meters)\n",
    "\n",
    "        if (neighbourhoods['Distance'].min() <= lat_lng_threshold):\n",
    "            lng_pts.append(lng)\n",
    "            lat_pts.append(lat)\n",
    "        \n",
    "        i += 1"
   ]
  },
  {
   "cell_type": "code",
   "execution_count": 48,
   "metadata": {},
   "outputs": [
    {
     "data": {
      "text/plain": [
       "1385"
      ]
     },
     "execution_count": 48,
     "metadata": {},
     "output_type": "execute_result"
    }
   ],
   "source": [
    "len(lng_pts)"
   ]
  },
  {
   "cell_type": "code",
   "execution_count": 61,
   "metadata": {},
   "outputs": [
    {
     "name": "stdout",
     "output_type": "stream",
     "text": [
      "Latitude has mean 0.0289406857861 and standard deviation 1.02440004116 (53.5231431991 / 0.0684844480713 before)\n",
      "Longitude has mean -0.030679183724 and standard deviation 1.16229491467 (-113.513059739 / 0.0941332130852 before)\n"
     ]
    },
    {
     "name": "stderr",
     "output_type": "stream",
     "text": [
      "/Users/chiwang/anaconda/lib/python2.7/site-packages/sklearn/preprocessing/data.py:646: DeprecationWarning: Passing 1d arrays as data is deprecated in 0.17 and will raise ValueError in 0.19. Reshape your data either using X.reshape(-1, 1) if your data has a single feature or X.reshape(1, -1) if it contains a single sample.\n",
      "  warnings.warn(DEPRECATION_MSG_1D, DeprecationWarning)\n",
      "/Users/chiwang/anaconda/lib/python2.7/site-packages/sklearn/preprocessing/data.py:646: DeprecationWarning: Passing 1d arrays as data is deprecated in 0.17 and will raise ValueError in 0.19. Reshape your data either using X.reshape(-1, 1) if your data has a single feature or X.reshape(1, -1) if it contains a single sample.\n",
      "  warnings.warn(DEPRECATION_MSG_1D, DeprecationWarning)\n"
     ]
    }
   ],
   "source": [
    "# Set up input dataframe, along with the scaled variables for input to model\n",
    "x_edm_grid_test = pd.DataFrame({\n",
    "    'Latitude': lat_pts,\n",
    "    'Latitude Scaled': lat_scaler.transform(lat_pts),\n",
    "    'Longitude': lng_pts,\n",
    "    'Longitude Scaled': lng_scaler.transform(lng_pts)\n",
    "})\n",
    "\n",
    "print 'Latitude has mean {} and standard deviation {} ({} / {} before)'.format(\n",
    "    x_edm_grid_test['Latitude Scaled'].mean(), \n",
    "    x_edm_grid_test['Latitude Scaled'].std(),\n",
    "    x_edm_grid_test['Latitude'].mean(),\n",
    "    x_edm_grid_test['Latitude'].std()\n",
    ")\n",
    "\n",
    "print 'Longitude has mean {} and standard deviation {} ({} / {} before)'.format(\n",
    "    x_edm_grid_test['Longitude Scaled'].mean(), \n",
    "    x_edm_grid_test['Longitude Scaled'].std(),\n",
    "    x_edm_grid_test['Longitude'].mean(),\n",
    "    x_edm_grid_test['Longitude'].std()\n",
    ")"
   ]
  },
  {
   "cell_type": "code",
   "execution_count": 62,
   "metadata": {
    "collapsed": true
   },
   "outputs": [],
   "source": [
    "# Make predictions\n",
    "x_edm_grid_test['y_edm_grid_pred'] = clf.predict(x_edm_grid_test[['Latitude Scaled', 'Longitude Scaled']])"
   ]
  },
  {
   "cell_type": "code",
   "execution_count": 66,
   "metadata": {
    "collapsed": true
   },
   "outputs": [],
   "source": [
    "# Create new log column\n",
    "x_edm_grid_test['y_edm_grid_pred_log'] = x_edm_grid_test['y_edm_grid_pred'].apply(lambda x: np.sign(x)*(np.log10(np.abs(x)+1)))"
   ]
  },
  {
   "cell_type": "code",
   "execution_count": 68,
   "metadata": {
    "collapsed": true
   },
   "outputs": [],
   "source": [
    "# Remove heavy outliers on the negative side\n",
    "x_edm_grid_test_no_outliers = x_edm_grid_test[x_edm_grid_test['y_edm_grid_pred_log'].between(3, 8)]"
   ]
  },
  {
   "cell_type": "code",
   "execution_count": 70,
   "metadata": {
    "scrolled": true
   },
   "outputs": [
    {
     "name": "stderr",
     "output_type": "stream",
     "text": [
      "/Users/chiwang/anaconda/lib/python2.7/site-packages/sklearn/preprocessing/data.py:324: DeprecationWarning: Passing 1d arrays as data is deprecated in 0.17 and will raise ValueError in 0.19. Reshape your data either using X.reshape(-1, 1) if your data has a single feature or X.reshape(1, -1) if it contains a single sample.\n",
      "  warnings.warn(DEPRECATION_MSG_1D, DeprecationWarning)\n",
      "/Users/chiwang/anaconda/lib/python2.7/site-packages/sklearn/preprocessing/data.py:359: DeprecationWarning: Passing 1d arrays as data is deprecated in 0.17 and will raise ValueError in 0.19. Reshape your data either using X.reshape(-1, 1) if your data has a single feature or X.reshape(1, -1) if it contains a single sample.\n",
      "  warnings.warn(DEPRECATION_MSG_1D, DeprecationWarning)\n"
     ]
    }
   ],
   "source": [
    "# Scale responese from 0 to 1 to match gmaps opacity parameter\n",
    "from sklearn.preprocessing import MinMaxScaler\n",
    "scaler = MinMaxScaler()\n",
    "\n",
    "x_edm_grid_test_no_outliers['y_edm_grid_pred_log_scaled'] = scaler.fit_transform(x_edm_grid_test_no_outliers['y_edm_grid_pred_log'])"
   ]
  },
  {
   "cell_type": "code",
   "execution_count": 64,
   "metadata": {
    "collapsed": true
   },
   "outputs": [],
   "source": [
    "# Import gmaps library and initial config\n",
    "import gmaps\n",
    "gmaps.configure(api_key=os.environ[\"GOOGLE_API_KEY\"])"
   ]
  },
  {
   "cell_type": "code",
   "execution_count": 78,
   "metadata": {},
   "outputs": [
    {
     "data": {
      "application/vnd.jupyter.widget-view+json": {
       "model_id": "a6032ddc153d4e119da8159f3f5cabcd"
      }
     },
     "metadata": {},
     "output_type": "display_data"
    }
   ],
   "source": [
    "# Plot gmaps\n",
    "edm_grid_heatmap = gmaps.heatmap_layer(\n",
    "    x_edm_grid_test_no_outliers[['Latitude', 'Longitude']], \n",
    "    max_intensity = 10,\n",
    "    weights = np.array(x_edm_grid_test_no_outliers['y_edm_grid_pred_log_scaled'].tolist())*7\n",
    "    ,\n",
    "    opacity = 0.4\n",
    ")\n",
    "\n",
    "edm_grid_fig = gmaps.figure()\n",
    "edm_grid_fig.add_layer(edm_grid_heatmap)\n",
    "edm_grid_fig"
   ]
  },
  {
   "cell_type": "markdown",
   "metadata": {},
   "source": [
    "![](https://s3.ca-central-1.amazonaws.com/2017edmfasatb/edmonton_property_assessment/images/knn_7_heatmap.png)\n",
    "\n",
    "Cool, the graph is more red than general, but we see many of the same hot spots on the map! Along the river, In the south, in the southwest, up north, that little island thing by sherwood park. I'm not quite sure which one is better, but I think the map generated from xgboost is a bit more clear in where the hot spots are. Perhaps if we widened our KNN net, we could see smoother hot spots as well! Let's try like... K = 15."
   ]
  },
  {
   "cell_type": "code",
   "execution_count": 105,
   "metadata": {},
   "outputs": [
    {
     "data": {
      "text/plain": [
       "KNeighborsRegressor(algorithm='auto', leaf_size=30, metric='minkowski',\n",
       "          metric_params=None, n_jobs=1, n_neighbors=15, p=2,\n",
       "          weights='uniform')"
      ]
     },
     "execution_count": 105,
     "metadata": {},
     "output_type": "execute_result"
    }
   ],
   "source": [
    "# Generate k = 15 knn regressor\n",
    "knn_15 = KNeighborsRegressor(n_neighbors = 15)\n",
    "knn.fit(x, y)"
   ]
  },
  {
   "cell_type": "code",
   "execution_count": 106,
   "metadata": {},
   "outputs": [
    {
     "name": "stderr",
     "output_type": "stream",
     "text": [
      "/Users/chiwang/anaconda/lib/python2.7/site-packages/sklearn/preprocessing/data.py:359: DeprecationWarning: Passing 1d arrays as data is deprecated in 0.17 and will raise ValueError in 0.19. Reshape your data either using X.reshape(-1, 1) if your data has a single feature or X.reshape(1, -1) if it contains a single sample.\n",
      "  warnings.warn(DEPRECATION_MSG_1D, DeprecationWarning)\n"
     ]
    }
   ],
   "source": [
    "# Make predictions\n",
    "x_edm_grid_test['y_edm_grid_pred_knn_15'] = knn.predict(x_edm_grid_test[['Latitude Scaled', 'Longitude Scaled']])\n",
    "\n",
    "# Create new log column\n",
    "x_edm_grid_test['y_edm_grid_pred_knn_15_log'] = x_edm_grid_test['y_edm_grid_pred_knn_15'].apply(lambda x: np.sign(x)*(np.log10(np.abs(x)+1)))\n",
    "\n",
    "# Remove heavy outliers on the negative side\n",
    "x_edm_grid_test_no_outliers = x_edm_grid_test[x_edm_grid_test['y_edm_grid_pred_knn_15_log'].between(3, 8)]\n",
    "\n",
    "# Scale\n",
    "x_edm_grid_test_no_outliers['y_edm_grid_pred_knn_15_log_scaled'] = scaler.transform(x_edm_grid_test_no_outliers['y_edm_grid_pred_knn_15_log'])"
   ]
  },
  {
   "cell_type": "code",
   "execution_count": 107,
   "metadata": {},
   "outputs": [
    {
     "data": {
      "application/vnd.jupyter.widget-view+json": {
       "model_id": "bb06be4d986a490a8a86986317040000"
      }
     },
     "metadata": {},
     "output_type": "display_data"
    }
   ],
   "source": [
    "# Plot gmaps\n",
    "edm_grid_heatmap_knn_15 = gmaps.heatmap_layer(\n",
    "    x_edm_grid_test_no_outliers[['Latitude', 'Longitude']], \n",
    "    max_intensity = 10,\n",
    "    weights = np.array(x_edm_grid_test_no_outliers['y_edm_grid_pred_knn_15_log_scaled'].tolist())*7\n",
    "    ,\n",
    "    opacity = 0.4\n",
    ")\n",
    "\n",
    "edm_grid_fig_knn_15 = gmaps.figure()\n",
    "edm_grid_fig_knn_15.add_layer(edm_grid_heatmap_knn_15)\n",
    "edm_grid_fig_knn_15"
   ]
  },
  {
   "cell_type": "markdown",
   "metadata": {},
   "source": [
    "![](https://s3.ca-central-1.amazonaws.com/2017edmfasatb/edmonton_property_assessment/images/knn_15_heatmap.png)\n",
    "\n",
    "The hot spots aren't as big or red... I think I like knn = 7 better for visualization purposes. This would make sense... the more neighbours you use, the more the visualization would just converge to the one median color because you're taking the average of more and more points.\n",
    "\n",
    "For me, I think that wraps it up for K-NN! Short and sweet post for a very simple but effective method!"
   ]
  }
 ],
 "metadata": {
  "anaconda-cloud": {},
  "kernelspec": {
   "display_name": "Python [conda root]",
   "language": "python",
   "name": "conda-root-py"
  },
  "language_info": {
   "codemirror_mode": {
    "name": "ipython",
    "version": 2
   },
   "file_extension": ".py",
   "mimetype": "text/x-python",
   "name": "python",
   "nbconvert_exporter": "python",
   "pygments_lexer": "ipython2",
   "version": "2.7.12"
  }
 },
 "nbformat": 4,
 "nbformat_minor": 1
}
